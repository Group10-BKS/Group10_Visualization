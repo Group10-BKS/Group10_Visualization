{
 "cells": [
  {
   "cell_type": "code",
   "execution_count": 149,
   "id": "58baaef6-2569-4b79-8578-186a4e19fbfd",
   "metadata": {},
   "outputs": [
    {
     "data": {
      "text/html": [
       "<style>pre { white-space: pre !important; }</style>"
      ],
      "text/plain": [
       "<IPython.core.display.HTML object>"
      ]
     },
     "metadata": {},
     "output_type": "display_data"
    }
   ],
   "source": [
    "import pyspark.sql.functions as sqlf \n",
    "from pyspark.sql import SparkSession\n",
    "from pyspark.sql.functions import col, sum as spark_sum\n",
    "from IPython.core.display import HTML\n",
    "display(HTML(\"<style>pre { white-space: pre !important; }</style>\"))\n",
    "import time\n",
    "# Create a SparkSession\n",
    "spark = SparkSession.builder \\\n",
    "    .appName(\"Display Mental Health Dataset\") \\\n",
    "    .getOrCreate()"
   ]
  },
  {
   "cell_type": "code",
   "execution_count": 160,
   "id": "d04e1027-586d-4eaa-ae5f-e8228973d1f6",
   "metadata": {},
   "outputs": [
    {
     "name": "stdout",
     "output_type": "stream",
     "text": [
      "The dataset has 292364 data objects\n",
      "Processing time: 0.192 seconds\n"
     ]
    }
   ],
   "source": [
    "\n",
    "# Start time\n",
    "start_time = time.time()\n",
    "# Load the CSV file into a DataFrame\n",
    "df = spark.read.csv(\"C:\\\\Users\\\\User\\\\Downloads\\\\Mental_Health_Dataset.csv\", header=True)\n",
    "print(\"The dataset has\", df.count(), 'data objects')\n",
    "# End time\n",
    "end_time = time.time()\n",
    "\n",
    "# Calculate processing time\n",
    "processing_time = end_time - start_time\n",
    "print(f\"Processing time: {round(processing_time, 3)} seconds\")"
   ]
  },
  {
   "cell_type": "code",
   "execution_count": 161,
   "id": "233d3efb-0ba0-4e45-8e24-a60a1b21a868",
   "metadata": {},
   "outputs": [
    {
     "name": "stdout",
     "output_type": "stream",
     "text": [
      "+---------------+------+--------------+----------+-------------+--------------+---------+------------+--------------+--------------+---------------------+-----------+----------------+-------------+---------------+-----------------------+------------+\n",
      "|      Timestamp|Gender|       Country|Occupation|self_employed|family_history|treatment|Days_Indoors|Growing_Stress|Changes_Habits|Mental_Health_History|Mood_Swings|Coping_Struggles|Work_Interest|Social_Weakness|mental_health_interview|care_options|\n",
      "+---------------+------+--------------+----------+-------------+--------------+---------+------------+--------------+--------------+---------------------+-----------+----------------+-------------+---------------+-----------------------+------------+\n",
      "|8/27/2014 11:29|Female| United States| Corporate|         NULL|            No|      Yes|   1-14 days|           Yes|            No|                  Yes|     Medium|              No|           No|            Yes|                     No|    Not sure|\n",
      "|8/27/2014 11:31|Female| United States| Corporate|         NULL|           Yes|      Yes|   1-14 days|           Yes|            No|                  Yes|     Medium|              No|           No|            Yes|                     No|          No|\n",
      "|8/27/2014 11:32|Female| United States| Corporate|         NULL|           Yes|      Yes|   1-14 days|           Yes|            No|                  Yes|     Medium|              No|           No|            Yes|                     No|         Yes|\n",
      "|8/27/2014 11:37|Female| United States| Corporate|           No|           Yes|      Yes|   1-14 days|           Yes|            No|                  Yes|     Medium|              No|           No|            Yes|                  Maybe|         Yes|\n",
      "|8/27/2014 11:43|Female| United States| Corporate|           No|           Yes|      Yes|   1-14 days|           Yes|            No|                  Yes|     Medium|              No|           No|            Yes|                     No|         Yes|\n",
      "|8/27/2014 11:49|Female|        Poland| Corporate|           No|            No|      Yes|   1-14 days|           Yes|            No|                  Yes|     Medium|              No|           No|            Yes|                  Maybe|    Not sure|\n",
      "|8/27/2014 11:51|Female|     Australia| Corporate|           No|           Yes|      Yes|   1-14 days|           Yes|            No|                  Yes|     Medium|              No|           No|            Yes|                     No|    Not sure|\n",
      "|8/27/2014 11:52|Female| United States| Corporate|           No|            No|       No|   1-14 days|           Yes|            No|                  Yes|     Medium|              No|           No|            Yes|                     No|          No|\n",
      "|8/27/2014 12:18|Female| United States| Corporate|           No|            No|       No|   1-14 days|           Yes|            No|                  Yes|     Medium|              No|           No|            Yes|                     No|    Not sure|\n",
      "|8/27/2014 12:37|Female| United States| Corporate|           No|            No|       No|   1-14 days|           Yes|            No|                  Yes|     Medium|              No|           No|            Yes|                     No|          No|\n",
      "|8/27/2014 12:39|Female| United States| Corporate|           No|           Yes|       No|   1-14 days|           Yes|            No|                  Yes|     Medium|              No|           No|            Yes|                     No|    Not sure|\n",
      "|8/27/2014 12:40|Female| United States| Corporate|           No|            No|       No|   1-14 days|           Yes|            No|                  Yes|     Medium|              No|           No|            Yes|                     No|    Not sure|\n",
      "|8/27/2014 12:49|Female| United States| Corporate|           No|            No|       No|   1-14 days|           Yes|            No|                  Yes|     Medium|              No|           No|            Yes|                     No|          No|\n",
      "|8/27/2014 12:49|Female|        Canada| Corporate|           No|           Yes|      Yes|   1-14 days|           Yes|            No|                  Yes|     Medium|              No|           No|            Yes|                     No|         Yes|\n",
      "|8/27/2014 12:50|Female| United States| Corporate|           No|            No|      Yes|   1-14 days|           Yes|            No|                  Yes|     Medium|              No|           No|            Yes|                     No|    Not sure|\n",
      "|8/27/2014 12:51|Female|United Kingdom| Corporate|           No|            No|       No|   1-14 days|           Yes|            No|                  Yes|     Medium|              No|           No|            Yes|                  Maybe|          No|\n",
      "|8/27/2014 12:53|Female| United States| Corporate|           No|           Yes|      Yes|   1-14 days|           Yes|            No|                  Yes|     Medium|              No|           No|            Yes|                     No|    Not sure|\n",
      "|8/27/2014 12:53|Female|  South Africa| Corporate|          Yes|           Yes|      Yes|   1-14 days|           Yes|            No|                  Yes|     Medium|              No|           No|            Yes|                     No|         Yes|\n",
      "|8/27/2014 12:55|Female| United States| Corporate|           No|            No|       No|   1-14 days|           Yes|            No|                  Yes|     Medium|              No|           No|            Yes|                     No|    Not sure|\n",
      "|8/27/2014 12:57|Female| United States| Corporate|           No|           Yes|      Yes|   1-14 days|           Yes|            No|                  Yes|     Medium|              No|           No|            Yes|                     No|          No|\n",
      "+---------------+------+--------------+----------+-------------+--------------+---------+------------+--------------+--------------+---------------------+-----------+----------------+-------------+---------------+-----------------------+------------+\n",
      "only showing top 20 rows\n",
      "\n"
     ]
    }
   ],
   "source": [
    "df.show()"
   ]
  },
  {
   "cell_type": "code",
   "execution_count": 162,
   "id": "b6813d97-bc2b-45a2-82c0-95bb0cefb5c2",
   "metadata": {},
   "outputs": [
    {
     "name": "stdout",
     "output_type": "stream",
     "text": [
      "Processing time: 0.002 seconds\n",
      "+---------------+------+--------------+----------+-------------+--------------+---------+----------------+--------------+--------------+---------------------+-----------+----------------+-------------+---------------+-----------------------+------------+\n",
      "|      Timestamp|Gender|       Country|Occupation|self_employed|family_history|treatment|    Days_Indoors|Growing_Stress|Changes_Habits|Mental_Health_History|Mood_Swings|Coping_Struggles|Work_Interest|Social_Weakness|mental_health_interview|care_options|\n",
      "+---------------+------+--------------+----------+-------------+--------------+---------+----------------+--------------+--------------+---------------------+-----------+----------------+-------------+---------------+-----------------------+------------+\n",
      "|8/27/2014 12:51|Female|United Kingdom| Corporate|           No|            No|       No|       1-14 days|           Yes|            No|                  Yes|     Medium|              No|           No|            Yes|                  Maybe|          No|\n",
      "|8/27/2014 13:47|Female|United Kingdom| Corporate|           No|            No|      Yes|       1-14 days|           Yes|            No|                  Yes|     Medium|              No|           No|            Yes|                     No|    Not sure|\n",
      "|8/27/2014 16:14|Female|United Kingdom| Corporate|           No|            No|      Yes|       1-14 days|           Yes|            No|                  Yes|     Medium|              No|           No|            Yes|                     No|         Yes|\n",
      "|8/27/2014 16:19|Female|United Kingdom| Corporate|           No|           Yes|      Yes|       1-14 days|           Yes|            No|                  Yes|     Medium|              No|           No|            Yes|                  Maybe|    Not sure|\n",
      "| 8/28/2014 2:32|Female|United Kingdom| Corporate|           No|            No|      Yes|       1-14 days|           Yes|            No|                  Yes|     Medium|              No|           No|            Yes|                     No|          No|\n",
      "| 8/28/2014 9:16|Female|United Kingdom| Corporate|           No|            No|       No|       1-14 days|           Yes|            No|                  Yes|     Medium|              No|           No|            Yes|                     No|          No|\n",
      "|8/28/2014 12:12|Female|United Kingdom| Corporate|           No|            No|       No|       1-14 days|           Yes|            No|                  Yes|     Medium|              No|           No|            Yes|                  Maybe|          No|\n",
      "|8/28/2014 17:12|Female|United Kingdom| Corporate|           No|           Yes|      Yes|       1-14 days|           Yes|            No|                  Yes|     Medium|              No|           No|            Yes|                     No|          No|\n",
      "|8/28/2014 17:20|Female|United Kingdom| Corporate|           No|           Yes|       No|       1-14 days|           Yes|            No|                  Yes|     Medium|              No|           No|            Yes|                     No|          No|\n",
      "|8/28/2014 18:21|Female|United Kingdom| Corporate|           No|           Yes|      Yes|       1-14 days|           Yes|            No|                  Yes|     Medium|              No|           No|            Yes|                     No|          No|\n",
      "| 8/29/2014 5:57|Female|United Kingdom| Corporate|          Yes|           Yes|      Yes|       1-14 days|           Yes|            No|                  Yes|     Medium|              No|           No|            Yes|                     No|          No|\n",
      "| 8/29/2014 9:02|Female|United Kingdom| Corporate|           No|           Yes|       No|       1-14 days|           Yes|            No|                  Yes|     Medium|              No|           No|            Yes|                     No|    Not sure|\n",
      "|8/30/2014 19:56|Female|United Kingdom| Corporate|           No|            No|      Yes|       1-14 days|           Yes|            No|                  Yes|     Medium|              No|           No|            Yes|                     No|    Not sure|\n",
      "|  9/2/2014 8:24|Female|United Kingdom| Corporate|           No|           Yes|       No|       1-14 days|           Yes|            No|                  Yes|     Medium|              No|           No|            Yes|                  Maybe|         Yes|\n",
      "| 2/21/2015 9:18|Female|United Kingdom| Corporate|           No|            No|      Yes|       1-14 days|           Yes|            No|                  Yes|     Medium|              No|           No|            Yes|                     No|         Yes|\n",
      "| 2/24/2015 8:54|Female|United Kingdom| Corporate|           No|           Yes|      Yes|       1-14 days|           Yes|            No|                  Yes|     Medium|              No|           No|            Yes|                  Maybe|         Yes|\n",
      "|8/27/2014 12:51|Female|United Kingdom|   Student|           No|            No|       No|Go out Every day|            No|           Yes|                   No|     Medium|             Yes|        Maybe|             No|                  Maybe|          No|\n",
      "|8/27/2014 13:47|Female|United Kingdom|   Student|           No|            No|      Yes|Go out Every day|            No|           Yes|                   No|     Medium|             Yes|        Maybe|             No|                     No|    Not sure|\n",
      "|8/27/2014 16:14|Female|United Kingdom|   Student|           No|            No|      Yes|Go out Every day|            No|           Yes|                   No|     Medium|             Yes|        Maybe|             No|                     No|         Yes|\n",
      "|8/27/2014 16:19|Female|United Kingdom|   Student|           No|           Yes|      Yes|Go out Every day|            No|           Yes|                   No|     Medium|             Yes|        Maybe|             No|                  Maybe|    Not sure|\n",
      "+---------------+------+--------------+----------+-------------+--------------+---------+----------------+--------------+--------------+---------------------+-----------+----------------+-------------+---------------+-----------------------+------------+\n",
      "only showing top 20 rows\n",
      "\n"
     ]
    }
   ],
   "source": [
    "start_time = time.time()\n",
    "\n",
    "# Filter the DataFrame to include only rows where the country is 'United Kingdom'\n",
    "uk_data = df.filter(df['Country'] == 'United Kingdom')\n",
    "end_time = time.time()\n",
    "\n",
    "# Calculate processing time\n",
    "processing_time = end_time - start_time\n",
    "\n",
    "print(f\"Processing time: {round(processing_time, 4)} seconds\")\n",
    "\n",
    "# Display the filtered DataFrame\n",
    "uk_data.show()"
   ]
  },
  {
   "cell_type": "code",
   "execution_count": 165,
   "id": "af5cb54e-44d0-4eec-b94e-1b79a67a67b3",
   "metadata": {},
   "outputs": [
    {
     "name": "stdout",
     "output_type": "stream",
     "text": [
      "Number of data objects in the dataset: 51404\n"
     ]
    }
   ],
   "source": [
    "print(\"Number of data objects in the dataset:\", uk_data.count())"
   ]
  },
  {
   "cell_type": "code",
   "execution_count": 172,
   "id": "131c4419-d19f-4ba7-be10-d2d8ad35daa8",
   "metadata": {},
   "outputs": [
    {
     "name": "stdout",
     "output_type": "stream",
     "text": [
      "There are NULL values in the dataset.\n",
      "Processing time: 0.0264 seconds\n",
      "+---------+------+-------+----------+-------------+--------------+---------+------------+--------------+--------------+---------------------+-----------+----------------+-------------+---------------+-----------------------+------------+\n",
      "|Timestamp|Gender|Country|Occupation|self_employed|family_history|treatment|Days_Indoors|Growing_Stress|Changes_Habits|Mental_Health_History|Mood_Swings|Coping_Struggles|Work_Interest|Social_Weakness|mental_health_interview|care_options|\n",
      "+---------+------+-------+----------+-------------+--------------+---------+------------+--------------+--------------+---------------------+-----------+----------------+-------------+---------------+-----------------------+------------+\n",
      "|        0|     0|      0|         0|          780|             0|        0|           0|             0|             0|                    0|          0|               0|            0|              0|                      0|           0|\n",
      "+---------+------+-------+----------+-------------+--------------+---------+------------+--------------+--------------+---------------------+-----------+----------------+-------------+---------------+-----------------------+------------+\n",
      "\n"
     ]
    }
   ],
   "source": [
    "# Count null values in each column\n",
    "start_time = time.time()\n",
    "\n",
    "null_counts = uk_data.select([spark_sum(col(c).isNull().cast(\"int\")).alias(c) for c in uk_data.columns])\n",
    "if null_counts:\n",
    "    print(\"There are NULL values in the dataset.\")\n",
    "else:\n",
    "    print(\"There are no NULLS values in the dataset.\")\n",
    "end_time = time.time()\n",
    "\n",
    "processing_time = end_time - start_time\n",
    "\n",
    "print(f\"Processing time: {round(processing_time, 4)} seconds\")\n",
    "\n",
    "# Display sum of nulls in each column\n",
    "null_counts.show()"
   ]
  },
  {
   "cell_type": "code",
   "execution_count": 145,
   "id": "788ce6d6-9127-47c4-857e-7278406fd019",
   "metadata": {},
   "outputs": [
    {
     "name": "stdout",
     "output_type": "stream",
     "text": [
      "Column 'self_employed' has : 1.517 % null\n"
     ]
    }
   ],
   "source": [
    "# Calculate null percentages for each column\n",
    "total_rows = uk_data.count()\n",
    "null_percentages = [(col_name, (uk_data.filter(col(col_name).isNull()).count() / total_rows) * 100)\n",
    "                    for col_name in uk_data.columns\n",
    "                    if uk_data.filter(col(col_name).isNull()).count() > 0]\n",
    "\n",
    "# Print null percentages for columns with null values\n",
    "for col_name, null_percentage in null_percentages:\n",
    "    print(f\"Column '{col_name}' has : {round(null_percentage, 3)} % null\")"
   ]
  },
  {
   "cell_type": "code",
   "execution_count": 137,
   "id": "29253ec7-8c95-43b3-bcc5-66251bba9f80",
   "metadata": {},
   "outputs": [
    {
     "name": "stdout",
     "output_type": "stream",
     "text": [
      "Number of data objects in the CSV file before dropping columns: 51404\n",
      "Number of data objects in the CSV file after dropping columns: 50624\n"
     ]
    }
   ],
   "source": [
    "# Task 1: Check and print the number of data objects in the CSV file\n",
    "num_data_objects = uk_data.count()\n",
    "print(\"Number of data objects in the CSV file before dropping columns:\", num_data_objects)\n",
    "\n",
    "UK_Data_NoNull = uk_data.dropna()\n",
    "\n",
    "# Task 2: Check and print the number of data objects in the CSV file after dropping columns\n",
    "num_data_objects_after_drop = UK_Data_NoNull.count()\n",
    "print(\"Number of data objects in the CSV file after dropping columns:\", num_data_objects_after_drop)"
   ]
  },
  {
   "cell_type": "code",
   "execution_count": 98,
   "id": "6cf87f6a-aa9e-4629-8e25-3e0cb73c148e",
   "metadata": {},
   "outputs": [
    {
     "name": "stdout",
     "output_type": "stream",
     "text": [
      "+---------+------+-------+----------+-------------+--------------+---------+------------+--------------+--------------+---------------------+-----------+----------------+-------------+---------------+-----------------------+------------+\n",
      "|Timestamp|Gender|Country|Occupation|self_employed|family_history|treatment|Days_Indoors|Growing_Stress|Changes_Habits|Mental_Health_History|Mood_Swings|Coping_Struggles|Work_Interest|Social_Weakness|mental_health_interview|care_options|\n",
      "+---------+------+-------+----------+-------------+--------------+---------+------------+--------------+--------------+---------------------+-----------+----------------+-------------+---------------+-----------------------+------------+\n",
      "|        0|     0|      0|         0|            0|             0|        0|           0|             0|             0|                    0|          0|               0|            0|              0|                      0|           0|\n",
      "+---------+------+-------+----------+-------------+--------------+---------+------------+--------------+--------------+---------------------+-----------+----------------+-------------+---------------+-----------------------+------------+\n",
      "\n"
     ]
    }
   ],
   "source": [
    "# Count null values in each column\n",
    "null_counts = UK_Data_NoNull.select([spark_sum(col(c).isNull().cast(\"int\")).alias(c) for c in UK_Data_NoNull.columns])\n",
    "# Display sum of nulls in each column\n",
    "null_counts.show()"
   ]
  },
  {
   "cell_type": "code",
   "execution_count": 138,
   "id": "9edeca32-979b-4839-9366-a6eca13ca019",
   "metadata": {},
   "outputs": [
    {
     "name": "stdout",
     "output_type": "stream",
     "text": [
      "Total number of duplicate rows: 48\n",
      "+---------------+------+--------------+----------+-------------+--------------+---------+------------------+--------------+--------------+---------------------+-----------+----------------+-------------+---------------+-----------------------+------------+-----+\n",
      "|Timestamp      |Gender|Country       |Occupation|self_employed|family_history|treatment|Days_Indoors      |Growing_Stress|Changes_Habits|Mental_Health_History|Mood_Swings|Coping_Struggles|Work_Interest|Social_Weakness|mental_health_interview|care_options|count|\n",
      "+---------------+------+--------------+----------+-------------+--------------+---------+------------------+--------------+--------------+---------------------+-----------+----------------+-------------+---------------+-----------------------+------------+-----+\n",
      "|8/27/2014 13:47|Female|United Kingdom|Corporate |No           |No            |Yes      |31-60 days        |No            |No            |Maybe                |High       |No              |No           |Maybe          |No                     |Not sure    |2    |\n",
      "|9/2/2014 8:24  |Female|United Kingdom|Student   |No           |Yes           |No       |More than 2 months|Yes           |Maybe         |Maybe                |High       |No              |Maybe        |No             |Maybe                  |Yes         |2    |\n",
      "|8/29/2014 9:02 |Female|United Kingdom|Student   |No           |Yes           |No       |More than 2 months|Yes           |Maybe         |Maybe                |High       |No              |Maybe        |No             |No                     |Not sure    |2    |\n",
      "|8/28/2014 17:12|Female|United Kingdom|Others    |No           |Yes           |Yes      |31-60 days        |Yes           |Maybe         |Yes                  |High       |Yes             |Yes          |No             |No                     |No          |2    |\n",
      "|8/28/2014 9:16 |Female|United Kingdom|Student   |No           |No            |No       |More than 2 months|Yes           |Maybe         |Maybe                |High       |No              |Maybe        |No             |No                     |No          |2    |\n",
      "|8/29/2014 5:57 |Female|United Kingdom|Others    |Yes          |Yes           |Yes      |31-60 days        |Yes           |Maybe         |Yes                  |High       |Yes             |Yes          |No             |No                     |No          |2    |\n",
      "|8/28/2014 2:32 |Female|United Kingdom|Student   |No           |No            |Yes      |More than 2 months|Yes           |Maybe         |Maybe                |High       |No              |Maybe        |No             |No                     |No          |2    |\n",
      "|8/30/2014 19:56|Female|United Kingdom|Student   |No           |No            |Yes      |More than 2 months|Yes           |Maybe         |Maybe                |High       |No              |Maybe        |No             |No                     |Not sure    |2    |\n",
      "|8/28/2014 12:12|Female|United Kingdom|Student   |No           |No            |No       |More than 2 months|Yes           |Maybe         |Maybe                |High       |No              |Maybe        |No             |Maybe                  |No          |2    |\n",
      "|2/21/2015 9:18 |Female|United Kingdom|Student   |No           |No            |Yes      |More than 2 months|Yes           |Maybe         |Maybe                |High       |No              |Maybe        |No             |No                     |Yes         |2    |\n",
      "|8/27/2014 16:14|Female|United Kingdom|Student   |No           |No            |Yes      |More than 2 months|Yes           |Maybe         |Maybe                |High       |No              |Maybe        |No             |No                     |Yes         |2    |\n",
      "|8/27/2014 12:51|Female|United Kingdom|Others    |No           |No            |No       |31-60 days        |Yes           |Maybe         |Yes                  |High       |Yes             |Yes          |No             |Maybe                  |No          |2    |\n",
      "|8/27/2014 16:14|Female|United Kingdom|Corporate |No           |No            |Yes      |31-60 days        |No            |No            |Maybe                |High       |No              |No           |Maybe          |No                     |Yes         |2    |\n",
      "|8/28/2014 18:21|Female|United Kingdom|Corporate |No           |Yes           |Yes      |31-60 days        |No            |No            |Maybe                |High       |No              |No           |Maybe          |No                     |No          |2    |\n",
      "|8/28/2014 9:16 |Female|United Kingdom|Corporate |No           |No            |No       |31-60 days        |No            |No            |Maybe                |High       |No              |No           |Maybe          |No                     |No          |2    |\n",
      "|9/2/2014 8:24  |Female|United Kingdom|Corporate |No           |Yes           |No       |31-60 days        |No            |No            |Maybe                |High       |No              |No           |Maybe          |Maybe                  |Yes         |2    |\n",
      "|8/28/2014 17:20|Female|United Kingdom|Others    |No           |Yes           |No       |31-60 days        |Yes           |Maybe         |Yes                  |High       |Yes             |Yes          |No             |No                     |No          |2    |\n",
      "|2/24/2015 8:54 |Female|United Kingdom|Student   |No           |Yes           |Yes      |More than 2 months|Yes           |Maybe         |Maybe                |High       |No              |Maybe        |No             |Maybe                  |Yes         |2    |\n",
      "|8/28/2014 2:32 |Female|United Kingdom|Others    |No           |No            |Yes      |31-60 days        |Yes           |Maybe         |Yes                  |High       |Yes             |Yes          |No             |No                     |No          |2    |\n",
      "|8/28/2014 12:12|Female|United Kingdom|Corporate |No           |No            |No       |31-60 days        |No            |No            |Maybe                |High       |No              |No           |Maybe          |Maybe                  |No          |2    |\n",
      "+---------------+------+--------------+----------+-------------+--------------+---------+------------------+--------------+--------------+---------------------+-----------+----------------+-------------+---------------+-----------------------+------------+-----+\n",
      "only showing top 20 rows\n",
      "\n"
     ]
    }
   ],
   "source": [
    "# Identify duplicate rows\n",
    "duplicate_rows = UK_Data_NoNull.groupBy(UK_Data_NoNull.columns).count().where('count > 1')\n",
    "\n",
    "# Count total number of duplicate rows\n",
    "total_duplicates = duplicate_rows.count()\n",
    "\n",
    "# Show all duplicate rows\n",
    "if total_duplicates > 0:\n",
    "    print(\"Total number of duplicate rows:\", total_duplicates)\n",
    "    duplicate_rows.show(truncate=False)\n",
    "else:\n",
    "    print(\"No duplicate rows found.\")"
   ]
  },
  {
   "cell_type": "code",
   "execution_count": null,
   "id": "5ec3c490-d24a-4b94-8316-9f08c8b4d9c6",
   "metadata": {},
   "outputs": [],
   "source": []
  },
  {
   "cell_type": "code",
   "execution_count": 126,
   "id": "0b50fd02-e7c7-4443-8dec-94b2299f4cc1",
   "metadata": {},
   "outputs": [
    {
     "name": "stdout",
     "output_type": "stream",
     "text": [
      "Percentage of duplicate rows: 0.095% \n"
     ]
    }
   ],
   "source": [
    "# Calculate total number of rows\n",
    "total_rows = UK_Data_NoNull.count()\n",
    "# Calculate percentage of duplicates\n",
    "percentage_duplicates = (total_duplicates / total_rows) * 100\n",
    "print(f\"Percentage of duplicate rows: {round(percentage_duplicates, 3)}% \")"
   ]
  },
  {
   "cell_type": "code",
   "execution_count": 139,
   "id": "32d8950b-7afb-4633-b6ab-4307ecccf1dc",
   "metadata": {},
   "outputs": [
    {
     "name": "stdout",
     "output_type": "stream",
     "text": [
      "Before removing duplicates: 50624\n",
      "No duplicate rows remaining after dropping duplicates.\n",
      "Total number of rows after removing duplicates is  50576\n"
     ]
    }
   ],
   "source": [
    "# Drop duplicate rows\n",
    "print(\"Before removing duplicates:\",UK_Data_NoNull.count() )\n",
    "uk_data_no_duplicates = UK_Data_NoNull.dropDuplicates()\n",
    "\n",
    "# Check for duplicates in the new DataFrame\n",
    "total_duplicates_after_drop = uk_data_no_duplicates.groupBy(uk_data_no_duplicates.columns).count().where('count > 1').count()\n",
    "\n",
    "if total_duplicates_after_drop == 0:\n",
    "    print(\"No duplicate rows remaining after dropping duplicates.\")\n",
    "else:\n",
    "    print(\"Duplicate rows still exist after dropping duplicates.\")\n",
    "\n",
    "print('Total number of rows after removing duplicates is ', uk_data_no_duplicates.count())"
   ]
  },
  {
   "cell_type": "code",
   "execution_count": 140,
   "id": "0d1c4759-5771-4628-920d-53cf9e40afa3",
   "metadata": {},
   "outputs": [
    {
     "name": "stdout",
     "output_type": "stream",
     "text": [
      "+------+--------------+----------+-------------+--------------+---------+------------------+--------------+--------------+---------------------+-----------+----------------+-------------+---------------+-----------------------+------------+\n",
      "|Gender|       Country|Occupation|self_employed|family_history|treatment|      Days_Indoors|Growing_Stress|Changes_Habits|Mental_Health_History|Mood_Swings|Coping_Struggles|Work_Interest|Social_Weakness|mental_health_interview|care_options|\n",
      "+------+--------------+----------+-------------+--------------+---------+------------------+--------------+--------------+---------------------+-----------+----------------+-------------+---------------+-----------------------+------------+\n",
      "|Female|United Kingdom|  Business|           No|            No|      Yes|More than 2 months|           Yes|            No|                   No|       High|              No|           No|          Maybe|                     No|          No|\n",
      "|Female|United Kingdom|   Student|           No|           Yes|       No|         1-14 days|            No|         Maybe|                  Yes|        Low|              No|          Yes|            Yes|                  Maybe|         Yes|\n",
      "|Female|United Kingdom|    Others|           No|           Yes|      Yes|         1-14 days|           Yes|         Maybe|                Maybe|       High|             Yes|           No|            Yes|                     No|          No|\n",
      "|Female|United Kingdom|  Business|           No|           Yes|       No|        31-60 days|            No|         Maybe|                   No|        Low|             Yes|           No|          Maybe|                     No|    Not sure|\n",
      "|Female|United Kingdom| Housewife|           No|           Yes|       No|        15-30 days|            No|           Yes|                   No|       High|             Yes|           No|             No|                     No|    Not sure|\n",
      "|Female|United Kingdom| Housewife|           No|            No|      Yes|        15-30 days|            No|           Yes|                   No|       High|             Yes|           No|             No|                     No|    Not sure|\n",
      "|Female|United Kingdom|  Business|           No|            No|       No|        15-30 days|         Maybe|           Yes|                   No|       High|             Yes|          Yes|            Yes|                     No|          No|\n",
      "|Female|United Kingdom|  Business|           No|            No|       No|More than 2 months|           Yes|           Yes|                Maybe|        Low|              No|        Maybe|          Maybe|                  Maybe|          No|\n",
      "|Female|United Kingdom|  Business|           No|           Yes|       No|        15-30 days|         Maybe|           Yes|                   No|        Low|             Yes|           No|            Yes|                  Maybe|         Yes|\n",
      "|Female|United Kingdom|  Business|           No|           Yes|      Yes|  Go out Every day|         Maybe|           Yes|                  Yes|        Low|             Yes|          Yes|             No|                  Maybe|         Yes|\n",
      "|Female|United Kingdom|  Business|           No|            No|      Yes|  Go out Every day|         Maybe|           Yes|                   No|        Low|              No|          Yes|             No|                     No|    Not sure|\n",
      "|Female|United Kingdom|  Business|          Yes|           Yes|      Yes|         1-14 days|           Yes|           Yes|                   No|        Low|              No|          Yes|          Maybe|                     No|          No|\n",
      "|Female|United Kingdom|    Others|           No|           Yes|      Yes|        31-60 days|         Maybe|           Yes|                Maybe|     Medium|              No|          Yes|             No|                  Maybe|    Not sure|\n",
      "|Female|United Kingdom|    Others|           No|            No|      Yes|        31-60 days|           Yes|            No|                Maybe|        Low|              No|          Yes|             No|                     No|    Not sure|\n",
      "|Female|United Kingdom|   Student|           No|           Yes|      Yes|  Go out Every day|           Yes|           Yes|                Maybe|     Medium|             Yes|           No|          Maybe|                     No|          No|\n",
      "|Female|United Kingdom|    Others|           No|            No|      Yes|More than 2 months|            No|           Yes|                Maybe|        Low|              No|        Maybe|          Maybe|                     No|          No|\n",
      "|Female|United Kingdom|   Student|           No|            No|       No|  Go out Every day|         Maybe|           Yes|                  Yes|        Low|              No|          Yes|            Yes|                  Maybe|          No|\n",
      "|Female|United Kingdom| Housewife|           No|           Yes|      Yes|        31-60 days|           Yes|         Maybe|                  Yes|     Medium|              No|           No|             No|                  Maybe|         Yes|\n",
      "|Female|United Kingdom|    Others|           No|           Yes|       No|More than 2 months|         Maybe|           Yes|                Maybe|        Low|             Yes|          Yes|          Maybe|                  Maybe|         Yes|\n",
      "|Female|United Kingdom| Corporate|           No|           Yes|      Yes|         1-14 days|            No|            No|                  Yes|       High|             Yes|          Yes|            Yes|                  Maybe|         Yes|\n",
      "+------+--------------+----------+-------------+--------------+---------+------------------+--------------+--------------+---------------------+-----------+----------------+-------------+---------------+-----------------------+------------+\n",
      "only showing top 20 rows\n",
      "\n"
     ]
    }
   ],
   "source": [
    "Removed_Date_Data = uk_data_no_duplicates.drop('Timestamp')\n",
    "Removed_Date_Data.show()"
   ]
  },
  {
   "cell_type": "code",
   "execution_count": 141,
   "id": "0386c815-14d1-4c37-8dbd-e86175058570",
   "metadata": {},
   "outputs": [
    {
     "name": "stdout",
     "output_type": "stream",
     "text": [
      "+------+--------------+----------+-------------+--------------+---------+------------------+--------------+--------------+---------------------+-----------+----------------+-------------+---------------+-----------------------+------------+\n",
      "|Gender|       Country|Occupation|self_employed|family_history|treatment|      Days_Indoors|Growing_Stress|Changes_Habits|Mental_Health_History|Mood_Swings|Coping_Struggles|Work_Interest|Social_Weakness|mental_health_interview|care_options|\n",
      "+------+--------------+----------+-------------+--------------+---------+------------------+--------------+--------------+---------------------+-----------+----------------+-------------+---------------+-----------------------+------------+\n",
      "|Female|United Kingdom|  Business|           No|            No|      Yes|More than 2 months|           Yes|            No|                   No|       High|              No|           No|          Maybe|                     No|          No|\n",
      "|Female|United Kingdom|   Student|           No|           Yes|       No|         1-14 days|            No|         Maybe|                  Yes|        Low|              No|          Yes|            Yes|                  Maybe|         Yes|\n",
      "|Female|United Kingdom|    Others|           No|           Yes|      Yes|         1-14 days|           Yes|         Maybe|                Maybe|       High|             Yes|           No|            Yes|                     No|          No|\n",
      "|Female|United Kingdom|  Business|           No|           Yes|       No|        31-60 days|            No|         Maybe|                   No|        Low|             Yes|           No|          Maybe|                     No|    Not sure|\n",
      "|Female|United Kingdom| Housewife|           No|           Yes|       No|        15-30 days|            No|           Yes|                   No|       High|             Yes|           No|             No|                     No|    Not sure|\n",
      "|Female|United Kingdom| Housewife|           No|            No|      Yes|        15-30 days|            No|           Yes|                   No|       High|             Yes|           No|             No|                     No|    Not sure|\n",
      "|Female|United Kingdom|  Business|           No|            No|       No|        15-30 days|         Maybe|           Yes|                   No|       High|             Yes|          Yes|            Yes|                     No|          No|\n",
      "|Female|United Kingdom|  Business|           No|            No|       No|More than 2 months|           Yes|           Yes|                Maybe|        Low|              No|        Maybe|          Maybe|                  Maybe|          No|\n",
      "|Female|United Kingdom|  Business|           No|           Yes|       No|        15-30 days|         Maybe|           Yes|                   No|        Low|             Yes|           No|            Yes|                  Maybe|         Yes|\n",
      "|Female|United Kingdom|  Business|           No|           Yes|      Yes|  Go out Every day|         Maybe|           Yes|                  Yes|        Low|             Yes|          Yes|             No|                  Maybe|         Yes|\n",
      "|Female|United Kingdom|  Business|           No|            No|      Yes|  Go out Every day|         Maybe|           Yes|                   No|        Low|              No|          Yes|             No|                     No|    Not sure|\n",
      "|Female|United Kingdom|  Business|          Yes|           Yes|      Yes|         1-14 days|           Yes|           Yes|                   No|        Low|              No|          Yes|          Maybe|                     No|          No|\n",
      "|Female|United Kingdom|    Others|           No|           Yes|      Yes|        31-60 days|         Maybe|           Yes|                Maybe|     Medium|              No|          Yes|             No|                  Maybe|    Not sure|\n",
      "|Female|United Kingdom|    Others|           No|            No|      Yes|        31-60 days|           Yes|            No|                Maybe|        Low|              No|          Yes|             No|                     No|    Not sure|\n",
      "|Female|United Kingdom|   Student|           No|           Yes|      Yes|  Go out Every day|           Yes|           Yes|                Maybe|     Medium|             Yes|           No|          Maybe|                     No|          No|\n",
      "|Female|United Kingdom|    Others|           No|            No|      Yes|More than 2 months|            No|           Yes|                Maybe|        Low|              No|        Maybe|          Maybe|                     No|          No|\n",
      "|Female|United Kingdom|   Student|           No|            No|       No|  Go out Every day|         Maybe|           Yes|                  Yes|        Low|              No|          Yes|            Yes|                  Maybe|          No|\n",
      "|Female|United Kingdom| Housewife|           No|           Yes|      Yes|        31-60 days|           Yes|         Maybe|                  Yes|     Medium|              No|           No|             No|                  Maybe|         Yes|\n",
      "|Female|United Kingdom|    Others|           No|           Yes|       No|More than 2 months|         Maybe|           Yes|                Maybe|        Low|             Yes|          Yes|          Maybe|                  Maybe|         Yes|\n",
      "|Female|United Kingdom| Corporate|           No|           Yes|      Yes|         1-14 days|            No|            No|                  Yes|       High|             Yes|          Yes|            Yes|                  Maybe|         Yes|\n",
      "+------+--------------+----------+-------------+--------------+---------+------------------+--------------+--------------+---------------------+-----------+----------------+-------------+---------------+-----------------------+------------+\n",
      "only showing top 20 rows\n",
      "\n"
     ]
    }
   ],
   "source": [
    "Cleaned_UK_Mental_Health = Removed_Date_Data\n",
    "Cleaned_UK_Mental_Health.show()"
   ]
  },
  {
   "cell_type": "code",
   "execution_count": null,
   "id": "2f3fdc12-f661-4dae-a6f9-3044c0a16aa4",
   "metadata": {},
   "outputs": [],
   "source": []
  }
 ],
 "metadata": {
  "kernelspec": {
   "display_name": "Python 3 (ipykernel)",
   "language": "python",
   "name": "python3"
  },
  "language_info": {
   "codemirror_mode": {
    "name": "ipython",
    "version": 3
   },
   "file_extension": ".py",
   "mimetype": "text/x-python",
   "name": "python",
   "nbconvert_exporter": "python",
   "pygments_lexer": "ipython3",
   "version": "3.11.7"
  }
 },
 "nbformat": 4,
 "nbformat_minor": 5
}
